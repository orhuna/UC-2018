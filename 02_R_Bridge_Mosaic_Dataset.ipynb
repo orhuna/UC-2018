{
 "cells": [
  {
   "cell_type": "markdown",
   "metadata": {},
   "source": [
    "# Working with Mosaic Datasets Using R-ArcGIS Bridge\n",
    "\n",
    "Mosaic datasets are frequently used in ... . "
   ]
  },
  {
   "cell_type": "code",
   "execution_count": 3,
   "metadata": {},
   "outputs": [],
   "source": [
    "## Import arcgisbinding library\n",
    "library(arcgisbinding)"
   ]
  },
  {
   "cell_type": "code",
   "execution_count": 4,
   "metadata": {},
   "outputs": [
    {
     "data": {
      "text/html": [
       "<dl>\n",
       "\t<dt>$license</dt>\n",
       "\t\t<dd>'Advanced'</dd>\n",
       "\t<dt>$version</dt>\n",
       "\t\t<dd>'12.3.0.13568'</dd>\n",
       "\t<dt>$path</dt>\n",
       "\t\t<dd>'C:\\\\ArcGIS\\\\Pro\\\\'</dd>\n",
       "\t<dt>$dll</dt>\n",
       "\t\t<dd>'rarcproxy_pro'</dd>\n",
       "\t<dt>$app</dt>\n",
       "\t\t<dd>'ArcGIS Pro'</dd>\n",
       "\t<dt>$pkg_ver</dt>\n",
       "\t\t<dd>'1.0.1.231'</dd>\n",
       "</dl>\n"
      ],
      "text/latex": [
       "\\begin{description}\n",
       "\\item[\\$license] 'Advanced'\n",
       "\\item[\\$version] '12.3.0.13568'\n",
       "\\item[\\$path] 'C:\\textbackslash{}\\textbackslash{}ArcGIS\\textbackslash{}\\textbackslash{}Pro\\textbackslash{}\\textbackslash{}'\n",
       "\\item[\\$dll] 'rarcproxy\\_pro'\n",
       "\\item[\\$app] 'ArcGIS Pro'\n",
       "\\item[\\$pkg\\_ver] '1.0.1.231'\n",
       "\\end{description}\n"
      ],
      "text/markdown": [
       "$license\n",
       ":   'Advanced'\n",
       "$version\n",
       ":   '12.3.0.13568'\n",
       "$path\n",
       ":   'C:\\\\ArcGIS\\\\Pro\\\\'\n",
       "$dll\n",
       ":   'rarcproxy_pro'\n",
       "$app\n",
       ":   'ArcGIS Pro'\n",
       "$pkg_ver\n",
       ":   '1.0.1.231'\n",
       "\n",
       "\n"
      ],
      "text/plain": [
       "product: ArcGIS Pro ( 12.3.0.13568 )\n",
       "license: Advanced \n",
       "version: 1.0.1.231 "
      ]
     },
     "metadata": {},
     "output_type": "display_data"
    }
   ],
   "source": [
    "## Make sure that the bridge is connected to a valid installation of ArcGIS Pro (or Desktop)\n",
    "arc.check_product()"
   ]
  },
  {
   "cell_type": "code",
   "execution_count": null,
   "metadata": {},
   "outputs": [],
   "source": []
  }
 ],
 "metadata": {
  "kernelspec": {
   "display_name": "R",
   "language": "R",
   "name": "ir"
  },
  "language_info": {
   "codemirror_mode": "r",
   "file_extension": ".r",
   "mimetype": "text/x-r-source",
   "name": "R",
   "pygments_lexer": "r",
   "version": "3.4.4"
  }
 },
 "nbformat": 4,
 "nbformat_minor": 2
}
