{
 "cells": [
  {
   "cell_type": "markdown",
   "metadata": {},
   "source": [
    "# Working with Mosaic Datasets Using R-ArcGIS Bridge\n",
    "\n",
    "Mosaic datasets are made up of a collection of rasters. Mosaic structure efficiently stores and manages multiple rasters for visualization and analysis. Detailed information about mosaic datasets can be found in [ArcGIS reference for mosaic datasets](https://desktop.arcgis.com/en/arcmap/latest/manage-data/raster-and-images/what-is-a-mosaic-dataset.htm).\n",
    "\n",
    "[R-ArcGIS bridge](https://r-arcgis.github.io/) handles mosaic data I/O  using the ```arc.open()``` function. The mosaic dataset opened using ```arc.open``` can be processed on the fly by converting it to a raster object within R using the ```arc.raster``` function. Properties of a mosaic dataset such as ```extent```, ```pixel_type```, ```nrow```, ```ncol``` and mosaicking rules. Mosaicking rules determine how a series of potentially intercepting rasters are displayed as a single raster. Mosaicking rules go beyond only visualization and can be used to stitch together different rasters making up a mosaic. \n",
    "\n",
    "Mosaicking rules define how intersections between different rasters within the mosaic dataset are handled and are made up of **method** and **operator**. Simply put, **method** defines which raster will be placed on top of the other for visualization in cases where they overlap and **operator** defines how the intersection between overlapping rasters in the mosaic dataset will be handled. The information on mosaicking rules can be found under [ArcGIS reference for mosaicking rules](https://desktop.arcgis.com/en/arcmap/latest/manage-data/raster-and-images/understanding-the-mosaicking-rules-for-a-mosaic-dataset.htm)\n",
    "\n",
    "## 1. On-the-Fly Analysis with ```arc.raster()```\n",
    "THe first example will walk you through reading in a mosaic dataset and manipulating it on the fly. For this example, we will be using ```arcgisbinding``` and ```raster``` packages to manipulate and visualize mosaic datasets. "
   ]
  },
  {
   "cell_type": "code",
   "execution_count": 42,
   "metadata": {},
   "outputs": [],
   "source": [
    "## Import arcgisbinding library\n",
    "library(arcgisbinding)\n",
    "library(raster, quietly = TRUE, warn.conflicts = FALSE)"
   ]
  },
  {
   "cell_type": "code",
   "execution_count": 43,
   "metadata": {},
   "outputs": [
    {
     "name": "stderr",
     "output_type": "stream",
     "text": [
      "Advanced12.3.0.13568C:\\ArcGIS\\Pro\\rarcproxy_proArcGIS Pro1.0.1.231\n"
     ]
    }
   ],
   "source": [
    "## Make sure that the bridge is connected to a valid installation of ArcGIS Pro (or Desktop)\n",
    "## Use arc.check_product()\n",
    "## Use message function for better notebook display\n",
    "## Note: You do not need to have the message function on a R terminal\n",
    "message(arc.check_product())"
   ]
  },
  {
   "cell_type": "code",
   "execution_count": 44,
   "metadata": {},
   "outputs": [
    {
     "data": {
      "text/plain": [
       "dataset_type    : MosaicDataset\n",
       "path            : datasets/mosaics/Mosaics.gdb/Local_T_Model \n",
       "format          : AMD\n",
       "pixel_type      : F32 (32bit)\n",
       "compression_type: None\n",
       "nrow            : 252\n",
       "ncol            : 613\n",
       "extent          : xmin=-124.3786, ymin=25.83376, xmax=-67.81589, ymax=49.0863\n",
       "WKT             : GEOGCS[\"GCS_WGS_1984\",DATUM[\"D_WGS_1984\",SPHEROID[\"WGS_1984\"...\n",
       "WKID            : 4326\n",
       "raster_function : Mosaic Function (Performs on-the-fly mosaic on a raster catalog.)\n",
       "bands           : 1\n",
       "       ncol nrow       min      max     mean  stddev\n",
       "Band_1  613  252 -2.152459 22.25084 10.44301 4.93543\n",
       "mosaic          : method=NorthWest, operator=Blend, Ascending=TRUE \n",
       "fields          : OBJECTID, Shape, Name, MinPS, MaxPS, LowPS, HighPS, Category, \n",
       "fields          : Tag, GroupName, ProductName, CenterX, CenterY, ZOrder, \n",
       "fields          : TypeID, ItemTS, UriHash, Uri, Shape_Length, Shape_Area"
      ]
     },
     "metadata": {},
     "output_type": "display_data"
    }
   ],
   "source": [
    "## Open the mosaic dataset\n",
    "mosaic.open.obj <- arc.open('datasets/mosaics/Mosaics.gdb/Local_T_Model')\n",
    "## Display the arc.open object\n",
    "mosaic.open.obj"
   ]
  },
  {
   "cell_type": "markdown",
   "metadata": {},
   "source": [
    "```arc.open``` provides information pertaining to the mosaic dataset as it exists in the geodatabase."
   ]
  },
  {
   "cell_type": "code",
   "execution_count": 45,
   "metadata": {},
   "outputs": [],
   "source": [
    "mosaic.obj <- arc.raster(mosaic.open.obj, mosaic = list(method = \"NorthWest\", operator = \"Sum\"))\n"
   ]
  },
  {
   "cell_type": "markdown",
   "metadata": {},
   "source": [
    "Mosaic data displayed above is the instance of the dataset as it exists in the file geodatabase in terms of sorting and the way overlaps are resolved. ```arc.raster``` creates a raster object that allows modifying the mosaic dataset on the fly. For this example case, we will blend all of the rasters making up the dataset. For this purpose we will use the **Blend** operator with the **Seamline** method, to blend rasters where they overlap. "
   ]
  },
  {
   "cell_type": "code",
   "execution_count": 46,
   "metadata": {},
   "outputs": [],
   "source": [
    "# Blend Rasters Using the Blend operator on seamlines\n",
    "mosaic.obj <- arc.raster(mosaic.open.obj, mosaic = list(method = \"Seamline\", operator = \"Blend\"))\n"
   ]
  },
  {
   "cell_type": "markdown",
   "metadata": {},
   "source": [
    "Figure above shows the resulting mosaic dataset that is modified on-the-fly using the ```arc.raster``` function. Note that ```arc.raster``` operates directly on the ```arc.open``` object to modify the mosaic data on-the-fly without reopening the mosaic dataset. Note that the operator and the method defined within ```arc.raster``` function defines the new raster created as a result of combining multiple overlapping rasters.\n",
    "\n",
    "Functionality for ```arc.raster``` object such as subsetting, coarsening/refining (resampling) and reprojecting is also available for mosaic datasets."
   ]
  },
  {
   "cell_type": "code",
   "execution_count": 47,
   "metadata": {},
   "outputs": [],
   "source": [
    "mosaic.obj <- arc.raster(mosaic.open.obj, mosaic = list(method = \"Seamline\", operator = \"Blend\"), nrow = 50, ncol = 60)"
   ]
  },
  {
   "cell_type": "code",
   "execution_count": null,
   "metadata": {},
   "outputs": [],
   "source": []
  }
 ],
 "metadata": {
  "kernelspec": {
   "display_name": "R",
   "language": "R",
   "name": "ir"
  },
  "language_info": {
   "codemirror_mode": "r",
   "file_extension": ".r",
   "mimetype": "text/x-r-source",
   "name": "R",
   "pygments_lexer": "r",
   "version": "3.4.4"
  }
 },
 "nbformat": 4,
 "nbformat_minor": 2
}
